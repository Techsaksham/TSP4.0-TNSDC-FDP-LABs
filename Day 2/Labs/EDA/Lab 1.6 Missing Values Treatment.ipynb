{
 "cells": [
  {
   "cell_type": "markdown",
   "id": "02b9e8ad-a24f-4376-840c-ea9332b66558",
   "metadata": {},
   "source": [
    "## Missing Values Treatment\n"
   ]
  },
  {
   "cell_type": "markdown",
   "id": "1ab764cb-1e06-4f54-b7ab-6ed2e2d948ff",
   "metadata": {},
   "source": [
    "#### Step 1 Identifying Missing Values:\n",
    "\n",
    "Before addressing missing values, it's crucial to identify where they exist in your dataset. In pandas, missing values are typically represented as NaN (Not a Number) or None."
   ]
  },
  {
   "cell_type": "code",
   "execution_count": 7,
   "id": "14324eff-34f8-417d-b581-1e668228916d",
   "metadata": {},
   "outputs": [
    {
     "name": "stdout",
     "output_type": "stream",
     "text": [
      "PassengerId      0\n",
      "Survived         0\n",
      "Pclass           0\n",
      "Name             0\n",
      "Sex              0\n",
      "Age            177\n",
      "SibSp            0\n",
      "Parch            0\n",
      "Ticket           0\n",
      "Fare             0\n",
      "Cabin          687\n",
      "Embarked         2\n",
      "dtype: int64\n"
     ]
    }
   ],
   "source": [
    "import pandas as pd\n",
    "\n",
    "# Load dataset (replace 'your_dataset.csv' with your dataset file)\n",
    "df = pd.read_csv('TSP 4.0 FDP Lab/data/train.csv')\n",
    "\n",
    "# Check for missing values\n",
    "print(df.isnull().sum())\n"
   ]
  },
  {
   "cell_type": "markdown",
   "id": "a8b1cbeb-2748-47c2-a323-0c53b51919f5",
   "metadata": {},
   "source": [
    "#### Step 2 Handling Missing Values\n",
    "\n",
    "##### Removing Rows or Columns: \n",
    "If missing values are few and scattered, you can remove rows or columns containing missing values using dropna()."
   ]
  },
  {
   "cell_type": "code",
   "execution_count": 8,
   "id": "05e3e189-7a3f-482b-8ebb-cfb6961770cc",
   "metadata": {},
   "outputs": [],
   "source": [
    "# Remove rows with any missing values\n",
    "df.dropna(inplace=True)\n",
    "\n",
    "# Remove columns with any missing values\n",
    "df.dropna(axis=1, inplace=True)\n"
   ]
  },
  {
   "cell_type": "code",
   "execution_count": 9,
   "id": "75fd99e4-c36f-415d-8961-aab062993ebe",
   "metadata": {},
   "outputs": [
    {
     "name": "stdout",
     "output_type": "stream",
     "text": [
      "PassengerId    0\n",
      "Survived       0\n",
      "Pclass         0\n",
      "Name           0\n",
      "Sex            0\n",
      "Age            0\n",
      "SibSp          0\n",
      "Parch          0\n",
      "Ticket         0\n",
      "Fare           0\n",
      "Cabin          0\n",
      "Embarked       0\n",
      "dtype: int64\n"
     ]
    }
   ],
   "source": [
    "# Check for missing values\n",
    "print(df.isnull().sum())\n"
   ]
  },
  {
   "cell_type": "markdown",
   "id": "9ec2358d-3e5a-469b-a09e-6d38887f8435",
   "metadata": {},
   "source": [
    "##### Imputation: \n",
    "Replace missing values with a statistical measure such as mean, median, or mode. This approach helps preserve data integrity and avoids data loss."
   ]
  },
  {
   "cell_type": "code",
   "execution_count": 19,
   "id": "eed802f2-65e7-47cf-ab8a-d4b5e1df1f65",
   "metadata": {},
   "outputs": [
    {
     "name": "stdout",
     "output_type": "stream",
     "text": [
      "PassengerId      0\n",
      "Survived         0\n",
      "Pclass           0\n",
      "Name             0\n",
      "Sex              0\n",
      "Age            177\n",
      "SibSp            0\n",
      "Parch            0\n",
      "Ticket           0\n",
      "Fare             0\n",
      "Cabin          687\n",
      "Embarked         2\n",
      "dtype: int64\n"
     ]
    }
   ],
   "source": [
    "# Load dataset (replace 'your_dataset.csv' with your dataset file)\n",
    "df = pd.read_csv('TSP 4.0 FDP Lab/data/train.csv')\n",
    "\n",
    "# Check for missing values\n",
    "print(df.isnull().sum())"
   ]
  },
  {
   "cell_type": "code",
   "execution_count": 21,
   "id": "a57609f3-d179-47ab-9d70-b9101194e24d",
   "metadata": {},
   "outputs": [
    {
     "name": "stdout",
     "output_type": "stream",
     "text": [
      "\n",
      "DataFrame after Mean Imputation:\n",
      "     PassengerId  Survived  Pclass  \\\n",
      "0              1         0       3   \n",
      "1              2         1       1   \n",
      "2              3         1       3   \n",
      "3              4         1       1   \n",
      "4              5         0       3   \n",
      "..           ...       ...     ...   \n",
      "886          887         0       2   \n",
      "887          888         1       1   \n",
      "888          889         0       3   \n",
      "889          890         1       1   \n",
      "890          891         0       3   \n",
      "\n",
      "                                                  Name     Sex        Age  \\\n",
      "0                              Braund, Mr. Owen Harris    male  22.000000   \n",
      "1    Cumings, Mrs. John Bradley (Florence Briggs Th...  female  38.000000   \n",
      "2                               Heikkinen, Miss. Laina  female  26.000000   \n",
      "3         Futrelle, Mrs. Jacques Heath (Lily May Peel)  female  35.000000   \n",
      "4                             Allen, Mr. William Henry    male  35.000000   \n",
      "..                                                 ...     ...        ...   \n",
      "886                              Montvila, Rev. Juozas    male  27.000000   \n",
      "887                       Graham, Miss. Margaret Edith  female  19.000000   \n",
      "888           Johnston, Miss. Catherine Helen \"Carrie\"  female  29.699118   \n",
      "889                              Behr, Mr. Karl Howell    male  26.000000   \n",
      "890                                Dooley, Mr. Patrick    male  32.000000   \n",
      "\n",
      "     SibSp  Parch            Ticket     Fare Cabin Embarked  \n",
      "0        1      0         A/5 21171   7.2500   NaN        S  \n",
      "1        1      0          PC 17599  71.2833   C85        C  \n",
      "2        0      0  STON/O2. 3101282   7.9250   NaN        S  \n",
      "3        1      0            113803  53.1000  C123        S  \n",
      "4        0      0            373450   8.0500   NaN        S  \n",
      "..     ...    ...               ...      ...   ...      ...  \n",
      "886      0      0            211536  13.0000   NaN        S  \n",
      "887      0      0            112053  30.0000   B42        S  \n",
      "888      1      2        W./C. 6607  23.4500   NaN        S  \n",
      "889      0      0            111369  30.0000  C148        C  \n",
      "890      0      0            370376   7.7500   NaN        Q  \n",
      "\n",
      "[891 rows x 12 columns]\n"
     ]
    }
   ],
   "source": [
    "# Initialize the SimpleImputer with the strategy 'mean'\n",
    "imputer = SimpleImputer(strategy='mean')\n",
    "\n",
    "# Fit the imputer on the age column and transform the data\n",
    "df['Age'] = imputer.fit_transform(df[['Age']])\n",
    "\n",
    "\n"
   ]
  },
  {
   "cell_type": "code",
   "execution_count": 22,
   "id": "95239757-0b8f-43e9-bafe-0be1d2eda127",
   "metadata": {},
   "outputs": [
    {
     "name": "stdout",
     "output_type": "stream",
     "text": [
      "PassengerId      0\n",
      "Survived         0\n",
      "Pclass           0\n",
      "Name             0\n",
      "Sex              0\n",
      "Age              0\n",
      "SibSp            0\n",
      "Parch            0\n",
      "Ticket           0\n",
      "Fare             0\n",
      "Cabin          687\n",
      "Embarked         2\n",
      "dtype: int64\n"
     ]
    }
   ],
   "source": [
    "# Check for missing values\n",
    "print(df.isnull().sum())"
   ]
  },
  {
   "cell_type": "markdown",
   "id": "d08c00bb-db84-4ce7-88a1-9f201f91e0b5",
   "metadata": {},
   "source": [
    "##### Replace missing values"
   ]
  },
  {
   "cell_type": "code",
   "execution_count": null,
   "id": "4f3b2ca9-1c35-44f9-8999-b9c53d06992f",
   "metadata": {},
   "outputs": [],
   "source": [
    "# Replace missing values with the median age\n",
    "imputer = SimpleImputer(strategy='median')\n",
    "\n",
    "# Replace missing values with the most frequent age\n",
    "imputer = SimpleImputer(strategy='most_frequent')\n",
    "\n",
    "# Replace missing values with a constant value (e.g., 30)\n",
    "imputer = SimpleImputer(strategy='constant', fill_value=30)"
   ]
  },
  {
   "cell_type": "markdown",
   "id": "e9839d37-28f7-4ba8-9874-c3de2bb5635f",
   "metadata": {},
   "source": [
    "#### Step 3 Handling Categorical Variables\n",
    "\n",
    "For categorical variables, you can impute missing values with the most frequent category or a new category indicating missingness."
   ]
  },
  {
   "cell_type": "code",
   "execution_count": 24,
   "id": "b960d0d4-1aff-4b28-a83f-3a579e9c4c9c",
   "metadata": {},
   "outputs": [],
   "source": [
    "# Replace missing categorical values with the most frequent category\n",
    "df['Cabin'].fillna(df['Cabin'].mode()[0], inplace=True)\n"
   ]
  },
  {
   "cell_type": "code",
   "execution_count": 25,
   "id": "4f8d2e62-b20d-4652-bc54-be7a5188b9b5",
   "metadata": {},
   "outputs": [
    {
     "name": "stdout",
     "output_type": "stream",
     "text": [
      "PassengerId    0\n",
      "Survived       0\n",
      "Pclass         0\n",
      "Name           0\n",
      "Sex            0\n",
      "Age            0\n",
      "SibSp          0\n",
      "Parch          0\n",
      "Ticket         0\n",
      "Fare           0\n",
      "Cabin          0\n",
      "Embarked       2\n",
      "dtype: int64\n"
     ]
    }
   ],
   "source": [
    "# Check for missing values\n",
    "print(df.isnull().sum())"
   ]
  },
  {
   "cell_type": "code",
   "execution_count": 27,
   "id": "f9081e9e-eec7-4b16-b77f-296dfca20a3f",
   "metadata": {},
   "outputs": [
    {
     "name": "stdout",
     "output_type": "stream",
     "text": [
      "Collecting missingno\n",
      "  Downloading missingno-0.5.2-py3-none-any.whl.metadata (639 bytes)\n",
      "Requirement already satisfied: numpy in c:\\users\\ramar bose\\anaconda3\\lib\\site-packages (from missingno) (1.24.4)\n",
      "Requirement already satisfied: matplotlib in c:\\users\\ramar bose\\anaconda3\\lib\\site-packages (from missingno) (3.8.0)\n",
      "Requirement already satisfied: scipy in c:\\users\\ramar bose\\anaconda3\\lib\\site-packages (from missingno) (1.10.1)\n",
      "Requirement already satisfied: seaborn in c:\\users\\ramar bose\\anaconda3\\lib\\site-packages (from missingno) (0.12.2)\n",
      "Requirement already satisfied: contourpy>=1.0.1 in c:\\users\\ramar bose\\anaconda3\\lib\\site-packages (from matplotlib->missingno) (1.2.0)\n",
      "Requirement already satisfied: cycler>=0.10 in c:\\users\\ramar bose\\anaconda3\\lib\\site-packages (from matplotlib->missingno) (0.11.0)\n",
      "Requirement already satisfied: fonttools>=4.22.0 in c:\\users\\ramar bose\\anaconda3\\lib\\site-packages (from matplotlib->missingno) (4.25.0)\n",
      "Requirement already satisfied: kiwisolver>=1.0.1 in c:\\users\\ramar bose\\anaconda3\\lib\\site-packages (from matplotlib->missingno) (1.4.4)\n",
      "Requirement already satisfied: packaging>=20.0 in c:\\users\\ramar bose\\anaconda3\\lib\\site-packages (from matplotlib->missingno) (23.1)\n",
      "Requirement already satisfied: pillow>=6.2.0 in c:\\users\\ramar bose\\anaconda3\\lib\\site-packages (from matplotlib->missingno) (10.2.0)\n",
      "Requirement already satisfied: pyparsing>=2.3.1 in c:\\users\\ramar bose\\anaconda3\\lib\\site-packages (from matplotlib->missingno) (3.0.9)\n",
      "Requirement already satisfied: python-dateutil>=2.7 in c:\\users\\ramar bose\\anaconda3\\lib\\site-packages (from matplotlib->missingno) (2.8.2)\n",
      "Requirement already satisfied: pandas>=0.25 in c:\\users\\ramar bose\\anaconda3\\lib\\site-packages (from seaborn->missingno) (1.5.3)\n",
      "Requirement already satisfied: pytz>=2020.1 in c:\\users\\ramar bose\\anaconda3\\lib\\site-packages (from pandas>=0.25->seaborn->missingno) (2023.3.post1)\n",
      "Requirement already satisfied: six>=1.5 in c:\\users\\ramar bose\\anaconda3\\lib\\site-packages (from python-dateutil>=2.7->matplotlib->missingno) (1.16.0)\n",
      "Downloading missingno-0.5.2-py3-none-any.whl (8.7 kB)\n",
      "Installing collected packages: missingno\n",
      "Successfully installed missingno-0.5.2\n",
      "Note: you may need to restart the kernel to use updated packages.\n"
     ]
    }
   ],
   "source": [
    "pip install missingno"
   ]
  },
  {
   "cell_type": "code",
   "execution_count": 29,
   "id": "887a4876-5ef8-4524-9b54-525cb25b7f12",
   "metadata": {},
   "outputs": [
    {
     "data": {
      "image/png": "[encoded data removed]",
      "text/plain": [
       "<Figure size 2500x1000 with 2 Axes>"
      ]
     },
     "metadata": {},
     "output_type": "display_data"
    }
   ],
   "source": [
    "import missingno as msno\n",
    "import matplotlib.pyplot as plt\n",
    "# Visualize missing data\n",
    "msno.matrix(df)\n",
    "plt.show()"
   ]
  }
 ],
 "metadata": {
  "kernelspec": {
   "display_name": "Python 3 (ipykernel)",
   "language": "python",
   "name": "python3"
  },
  "language_info": {
   "codemirror_mode": {
    "name": "ipython",
    "version": 3
   },
   "file_extension": ".py",
   "mimetype": "text/x-python",
   "name": "python",
   "nbconvert_exporter": "python",
   "pygments_lexer": "ipython3",
   "version": "3.11.7"
  }
 },
 "nbformat": 4,
 "nbformat_minor": 5
}
