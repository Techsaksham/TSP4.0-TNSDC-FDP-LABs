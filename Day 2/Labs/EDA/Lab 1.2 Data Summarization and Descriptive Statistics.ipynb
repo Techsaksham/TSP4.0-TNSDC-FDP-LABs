{
 "cells": [
  {
   "cell_type": "markdown",
   "id": "4e9b62c6-f904-40bf-87f1-4f6a0eadd97f",
   "metadata": {},
   "source": [
    "## Using Pandas for Data Summarization\n",
    "\n",
    "Pandas provides convenient functions to summarize and compute descriptive statistics for your data. "
   ]
  },
  {
   "cell_type": "markdown",
   "id": "320d62df-2d07-4084-900a-21da1397defb",
   "metadata": {},
   "source": [
    "#### # Step 1: Import Pandas and Load Your Data "
   ]
  },
  {
   "cell_type": "code",
   "execution_count": null,
   "id": "5568b20f-6992-4645-ae0a-3b9016171dad",
   "metadata": {},
   "outputs": [],
   "source": [
    "import pandas as pd\n",
    "\n",
    "# Load your dataset (replace 'data.csv' with your actual file path)\n",
    "df = pd.read_csv('data.csv')\n"
   ]
  },
  {
   "cell_type": "markdown",
   "id": "9717820b-5bb0-4bfc-8ac4-b786c166c16d",
   "metadata": {},
   "source": [
    "#### # Step 2: View the First Few Rows of Your Dataset "
   ]
  },
  {
   "cell_type": "code",
   "execution_count": null,
   "id": "024cbbe3-c418-4d33-a289-09586cc9e3b3",
   "metadata": {},
   "outputs": [],
   "source": [
    "# Display the first few rows of the DataFrame\n",
    "print(df.head())\n"
   ]
  },
  {
   "cell_type": "markdown",
   "id": "648ec2bc-8450-447e-94ea-3bbee459db6c",
   "metadata": {},
   "source": [
    "#### Step 3: Summary Statistics"
   ]
  },
  {
   "cell_type": "code",
   "execution_count": null,
   "id": "c83a2af9-8701-41df-bc64-5b3cb4575ff5",
   "metadata": {},
   "outputs": [],
   "source": [
    "# Summary statistics for numerical columns\n",
    "summary_stats = df.describe()\n",
    "print(summary_stats)\n"
   ]
  },
  {
   "cell_type": "markdown",
   "id": "10465d2a-48a1-42a1-8764-f74a928fcad7",
   "metadata": {},
   "source": [
    "#### Step 4: Individual Descriptive Statistics"
   ]
  },
  {
   "cell_type": "code",
   "execution_count": null,
   "id": "0079e9b9-7531-4250-b0eb-281d78b4d349",
   "metadata": {},
   "outputs": [],
   "source": [
    "# Mean of a specific column\n",
    "mean_column = df['column_name'].mean()\n",
    "\n",
    "# Median of a specific column\n",
    "median_column = df['column_name'].median()\n",
    "\n",
    "# Standard deviation of a specific column\n",
    "std_column = df['column_name'].std()\n",
    "\n",
    "# Count of non-null values in a specific column\n",
    "count_column = df['column_name'].count()\n",
    "\n",
    "# Minimum value in a specific column\n",
    "min_column = df['column_name'].min()\n",
    "\n",
    "# Maximum value in a specific column\n",
    "max_column = df['column_name'].max()\n"
   ]
  },
  {
   "cell_type": "markdown",
   "id": "d50a9a99-18bb-4ce5-ad49-42861ea404b4",
   "metadata": {},
   "source": [
    "## Using NumPy for Custom Descriptive Statistics\n",
    "\n",
    "NumPy is often used in conjunction with Pandas for numerical computations and can be useful for custom statistics"
   ]
  },
  {
   "cell_type": "markdown",
   "id": "1ad134f3-6f0e-480f-8079-1af866f69a3e",
   "metadata": {},
   "source": [
    "#### Step 1: Import NumPy"
   ]
  },
  {
   "cell_type": "code",
   "execution_count": null,
   "id": "3266c274-f449-42a6-88e3-0a8afb53bc72",
   "metadata": {},
   "outputs": [],
   "source": [
    "import numpy as np\n"
   ]
  },
  {
   "cell_type": "markdown",
   "id": "645cfa62-02a8-4cce-9c94-48ea4b44e4f3",
   "metadata": {},
   "source": [
    "#### Step 2: Compute Custom Statistics"
   ]
  },
  {
   "cell_type": "code",
   "execution_count": null,
   "id": "1dc07d5a-7af9-426e-bf6d-1c35f2c49701",
   "metadata": {},
   "outputs": [],
   "source": [
    "# Calculate mean using NumPy\n",
    "mean_value = np.mean(df['column_name'])\n",
    "\n",
    "# Calculate median using NumPy\n",
    "median_value = np.median(df['column_name'])\n",
    "\n",
    "# Calculate variance using NumPy\n",
    "variance_value = np.var(df['column_name'])\n",
    "\n",
    "# Calculate standard deviation using NumPy\n",
    "std_deviation = np.std(df['column_name'])\n",
    "\n",
    "# Calculate percentiles using NumPy\n",
    "percentile_25 = np.percentile(df['column_name'], 25)\n",
    "percentile_75 = np.percentile(df['column_name'], 75)\n"
   ]
  }
 ],
 "metadata": {
  "kernelspec": {
   "display_name": "Python 3 (ipykernel)",
   "language": "python",
   "name": "python3"
  },
  "language_info": {
   "codemirror_mode": {
    "name": "ipython",
    "version": 3
   },
   "file_extension": ".py",
   "mimetype": "text/x-python",
   "name": "python",
   "nbconvert_exporter": "python",
   "pygments_lexer": "ipython3",
   "version": "3.11.7"
  }
 },
 "nbformat": 4,
 "nbformat_minor": 5
}
