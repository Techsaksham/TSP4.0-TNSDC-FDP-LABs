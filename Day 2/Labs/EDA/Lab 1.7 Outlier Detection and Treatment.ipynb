{
 "cells": [
  {
   "cell_type": "markdown",
   "id": "c0f8b29c-9493-4c22-a299-9c7e4f4ab2e2",
   "metadata": {},
   "source": [
    "## Outlier Detection and Treatment \n",
    "\n",
    "To work on outlier detection and treatment in Python using a raw dataset. We'll use a synthetic dataset for simplicity. The steps will include loading the data, detecting outliers using statistical methods, visualizing outliers, and then treating them."
   ]
  },
  {
   "cell_type": "markdown",
   "id": "0f60c611-37e6-421e-99e6-f5e008e04272",
   "metadata": {},
   "source": [
    "#### Step 1: Import Libraries and Load Data\n",
    "We'll create a synthetic dataset with some outliers."
   ]
  },
  {
   "cell_type": "code",
   "execution_count": 2,
   "id": "5918945f-cfb1-4118-85ca-2d574ae60a65",
   "metadata": {},
   "outputs": [
    {
     "name": "stdout",
     "output_type": "stream",
     "text": [
      "Original DataFrame:\n",
      "         age        salary\n",
      "0  36.657933  51762.134915\n",
      "1  33.576395  21388.146678\n",
      "2  22.272999  36156.361027\n",
      "3  29.958081  57046.271511\n",
      "4  33.106680  47834.498555\n"
     ]
    }
   ],
   "source": [
    "import pandas as pd\n",
    "import numpy as np\n",
    "from scipy import stats\n",
    "import matplotlib.pyplot as plt\n",
    "import seaborn as sns\n",
    "\n",
    "# Create a synthetic dataset\n",
    "np.random.seed(10)\n",
    "data = {\n",
    "    'age': np.random.normal(loc=30, scale=5, size=100).tolist() + [100, 105, 110],  # Adding outliers\n",
    "    'salary': np.random.normal(loc=50000, scale=15000, size=100).tolist() + [150000, 200000, 250000]  # Adding outliers\n",
    "}\n",
    "df = pd.DataFrame(data)\n",
    "\n",
    "# Display the first few rows of the dataset\n",
    "print(\"Original DataFrame:\")\n",
    "print(df.head())\n"
   ]
  },
  {
   "cell_type": "markdown",
   "id": "a1261f8c-9d82-4b3e-91b1-a0b0f7936ee3",
   "metadata": {},
   "source": [
    "#### Step 2: Detect Outliers\n",
    "##### Using Z-Score\n",
    "The Z-score method calculates how many standard deviations a data point is from the mean."
   ]
  },
  {
   "cell_type": "code",
   "execution_count": 3,
   "id": "80493cee-c447-4fd8-9e2d-7b06b661a4a2",
   "metadata": {},
   "outputs": [
    {
     "name": "stdout",
     "output_type": "stream",
     "text": [
      "\n",
      "Outliers detected using Z-score method:\n",
      "       age    salary\n",
      "100  100.0  150000.0\n",
      "101  105.0  200000.0\n",
      "102  110.0  250000.0\n"
     ]
    }
   ],
   "source": [
    "# Calculate Z-scores\n",
    "z_scores = np.abs(stats.zscore(df))\n",
    "outliers_zscore = df[(z_scores > 3).any(axis=1)]\n",
    "\n",
    "print(\"\\nOutliers detected using Z-score method:\")\n",
    "print(outliers_zscore)\n"
   ]
  },
  {
   "cell_type": "markdown",
   "id": "af92e24a-375d-4e83-8b41-4b3e286b6ff2",
   "metadata": {},
   "source": [
    "##### Using IQR (Interquartile Range)\n",
    "The IQR method considers data points that lie outside 1.5 times the IQR above the third quartile or below the first quartile as outliers.\n"
   ]
  },
  {
   "cell_type": "code",
   "execution_count": 4,
   "id": "3735c243-1980-42f9-92aa-700aab9196ec",
   "metadata": {},
   "outputs": [
    {
     "name": "stdout",
     "output_type": "stream",
     "text": [
      "\n",
      "Outliers detected using IQR method:\n",
      "            age         salary\n",
      "59    28.189098    5306.048434\n",
      "64    29.594389   15573.450066\n",
      "100  100.000000  150000.000000\n",
      "101  105.000000  200000.000000\n",
      "102  110.000000  250000.000000\n"
     ]
    }
   ],
   "source": [
    "Q1 = df.quantile(0.25)\n",
    "Q3 = df.quantile(0.75)\n",
    "IQR = Q3 - Q1\n",
    "\n",
    "# Identify outliers\n",
    "outliers_iqr = df[((df < (Q1 - 1.5 * IQR)) | (df > (Q3 + 1.5 * IQR))).any(axis=1)]\n",
    "\n",
    "print(\"\\nOutliers detected using IQR method:\")\n",
    "print(outliers_iqr)\n"
   ]
  },
  {
   "cell_type": "markdown",
   "id": "b82ec20e-b31c-43fd-bc7c-a53ab5f0eec6",
   "metadata": {},
   "source": [
    "#### Step 3: Visualize Outliers\n",
    "Using box plots to visualize outliers can be helpful."
   ]
  },
  {
   "cell_type": "code",
   "execution_count": 5,
   "id": "09523469-fe91-4f82-b7cc-6359a95afb09",
   "metadata": {},
   "outputs": [
    {
     "data": {
      "image/png": "[encoded data removed]",
      "text/plain": [
       "<Figure size 1200x600 with 2 Axes>"
      ]
     },
     "metadata": {},
     "output_type": "display_data"
    }
   ],
   "source": [
    "plt.figure(figsize=(12, 6))\n",
    "\n",
    "# Box plot for age\n",
    "plt.subplot(1, 2, 1)\n",
    "sns.boxplot(y=df['age'])\n",
    "plt.title('Box Plot of Age')\n",
    "\n",
    "# Box plot for salary\n",
    "plt.subplot(1, 2, 2)\n",
    "sns.boxplot(y=df['salary'])\n",
    "plt.title('Box Plot of Salary')\n",
    "\n",
    "plt.show()\n"
   ]
  },
  {
   "cell_type": "markdown",
   "id": "7fbc09a3-3969-4c5b-8cc7-553a749f5a80",
   "metadata": {},
   "source": [
    "#### Step 4: Treat Outliers\n",
    "\n",
    "##### Removing Outliers\n",
    "One common approach is to simply remove the outliers."
   ]
  },
  {
   "cell_type": "code",
   "execution_count": 6,
   "id": "89021430-5912-4acf-a6dc-2538545046ec",
   "metadata": {},
   "outputs": [
    {
     "name": "stdout",
     "output_type": "stream",
     "text": [
      "\n",
      "DataFrame after removing outliers (Z-score method):\n",
      "          age        salary\n",
      "0   36.657933  51762.134915\n",
      "1   33.576395  21388.146678\n",
      "2   22.272999  36156.361027\n",
      "3   29.958081  57046.271511\n",
      "4   33.106680  47834.498555\n",
      "..        ...           ...\n",
      "95  34.591346  68827.605976\n",
      "96  27.589534  64206.891173\n",
      "97  30.447938  34665.339616\n",
      "98  34.134993  67507.525526\n",
      "99  20.227439  41420.347801\n",
      "\n",
      "[100 rows x 2 columns]\n"
     ]
    }
   ],
   "source": [
    "# Remove outliers using Z-score method\n",
    "df_no_outliers = df[(z_scores < 3).all(axis=1)]\n",
    "\n",
    "print(\"\\nDataFrame after removing outliers (Z-score method):\")\n",
    "print(df_no_outliers)\n"
   ]
  },
  {
   "cell_type": "markdown",
   "id": "c4c0a4ca-2dbc-45a7-b93b-dd7cf5a07100",
   "metadata": {},
   "source": [
    "##### Capping/Flooring Outliers\n",
    "Another approach is to cap the outliers at a specified threshold, usually at the 1st and 99th percentiles."
   ]
  },
  {
   "cell_type": "code",
   "execution_count": 7,
   "id": "9de1c3db-3a33-4a92-8e3c-18f3492bb33a",
   "metadata": {},
   "outputs": [
    {
     "name": "stdout",
     "output_type": "stream",
     "text": [
      "\n",
      "DataFrame after capping/flooring outliers:\n",
      "            age         salary\n",
      "0     36.657933   51762.134915\n",
      "1     33.576395   21388.146678\n",
      "2     22.272999   36156.361027\n",
      "3     29.958081   57046.271511\n",
      "4     33.106680   47834.498555\n",
      "..          ...            ...\n",
      "98    34.134993   67507.525526\n",
      "99    20.227439   41420.347801\n",
      "100  100.000000  150000.000000\n",
      "101  104.900000  199000.000000\n",
      "102  104.900000  199000.000000\n",
      "\n",
      "[103 rows x 2 columns]\n"
     ]
    }
   ],
   "source": [
    "# Capping/Flooring outliers\n",
    "def cap_floor(series):\n",
    "    lower_limit = series.quantile(0.01)\n",
    "    upper_limit = series.quantile(0.99)\n",
    "    series = np.where(series < lower_limit, lower_limit, series)\n",
    "    series = np.where(series > upper_limit, upper_limit, series)\n",
    "    return series\n",
    "\n",
    "df['age'] = cap_floor(df['age'])\n",
    "df['salary'] = cap_floor(df['salary'])\n",
    "\n",
    "print(\"\\nDataFrame after capping/flooring outliers:\")\n",
    "print(df)\n"
   ]
  },
  {
   "cell_type": "markdown",
   "id": "0fafc30e-77bb-4a63-babf-8be546751fe9",
   "metadata": {},
   "source": [
    "##### Imputing Outliers\n",
    "Replace outliers with a central value such as the mean or median of the data."
   ]
  },
  {
   "cell_type": "code",
   "execution_count": 8,
   "id": "9f3ac1a5-eac8-4230-8b0c-10388e4e7b85",
   "metadata": {},
   "outputs": [
    {
     "name": "stdout",
     "output_type": "stream",
     "text": [
      "\n",
      "DataFrame after imputing outliers with median:\n",
      "           age        salary\n",
      "0    36.657933  51762.134915\n",
      "1    33.576395  21388.146678\n",
      "2    22.272999  36156.361027\n",
      "3    29.958081  57046.271511\n",
      "4    33.106680  47834.498555\n",
      "..         ...           ...\n",
      "98   34.134993  67507.525526\n",
      "99   20.227439  41420.347801\n",
      "100  30.542743  51762.134915\n",
      "101  30.542743  51762.134915\n",
      "102  30.542743  51762.134915\n",
      "\n",
      "[103 rows x 2 columns]\n"
     ]
    }
   ],
   "source": [
    "# Impute outliers with median\n",
    "df['age'] = df['age'].apply(lambda x: df['age'].median() if (x < Q1['age'] - 1.5 * IQR['age']) or (x > Q3['age'] + 1.5 * IQR['age']) else x)\n",
    "df['salary'] = df['salary'].apply(lambda x: df['salary'].median() if (x < Q1['salary'] - 1.5 * IQR['salary']) or (x > Q3['salary'] + 1.5 * IQR['salary']) else x)\n",
    "\n",
    "print(\"\\nDataFrame after imputing outliers with median:\")\n",
    "print(df)\n"
   ]
  },
  {
   "cell_type": "markdown",
   "id": "6964d8dd-671c-4cfe-a5a0-b5fb2eac8d0f",
   "metadata": {},
   "source": [
    "These methods help improve the quality of data analysis and ensure that statistical models and machine learning algorithms perform optimally by reducing the impact of anomalous data points. Feel free to adjust the thresholds and methods according to the specifics of your data and the requirements of your analysis."
   ]
  }
 ],
 "metadata": {
  "kernelspec": {
   "display_name": "Python 3 (ipykernel)",
   "language": "python",
   "name": "python3"
  },
  "language_info": {
   "codemirror_mode": {
    "name": "ipython",
    "version": 3
   },
   "file_extension": ".py",
   "mimetype": "text/x-python",
   "name": "python",
   "nbconvert_exporter": "python",
   "pygments_lexer": "ipython3",
   "version": "3.11.7"
  }
 },
 "nbformat": 4,
 "nbformat_minor": 5
}
