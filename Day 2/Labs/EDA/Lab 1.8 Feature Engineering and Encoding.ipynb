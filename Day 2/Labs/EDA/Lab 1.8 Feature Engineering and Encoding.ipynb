{
 "cells": [
  {
   "cell_type": "markdown",
   "id": "9688fc75-019e-45bc-83db-1e4c7623bc2e",
   "metadata": {},
   "source": [
    "## Feature Engineering\n",
    "\n",
    "\n",
    "#### Step 1: Import Libraries and Load Data\n",
    "First, we need to import the necessary libraries and load the dataset."
   ]
  },
  {
   "cell_type": "code",
   "execution_count": 38,
   "id": "14eed873-91b3-4440-aa04-827f3d90c3c4",
   "metadata": {},
   "outputs": [
    {
     "name": "stdout",
     "output_type": "stream",
     "text": [
      "Original DataFrame:\n",
      "   age  salary  gender purchase_history         city\n",
      "0   25   50000    male              yes     New York\n",
      "1   32   60000  female               no  Los Angeles\n",
      "2   47  120000  female              yes      Chicago\n",
      "3   51   90000    male               no      Houston\n",
      "4   62  150000  female              yes      Phoenix\n"
     ]
    }
   ],
   "source": [
    "import pandas as pd\n",
    "import numpy as np\n",
    "\n",
    "# Load a sample dataset\n",
    "df = pd.DataFrame({\n",
    "    'age': [25, 32, 47, 51, 62],\n",
    "    'salary': [50000, 60000, 120000, 90000, 150000],\n",
    "    'gender': ['male', 'female', 'female', 'male', 'female'],\n",
    "    'purchase_history': ['yes', 'no', 'yes', 'no', 'yes'],\n",
    "    'city': ['New York', 'Los Angeles', 'Chicago', 'Houston', 'Phoenix']\n",
    "})\n",
    "\n",
    "print(\"Original DataFrame:\")\n",
    "print(df)\n"
   ]
  },
  {
   "cell_type": "code",
   "execution_count": 39,
   "id": "1799f0b0-b4ea-4748-9fb3-659aef328155",
   "metadata": {},
   "outputs": [],
   "source": [
    "df1 = df"
   ]
  },
  {
   "cell_type": "markdown",
   "id": "bca2314f-d918-4e8e-bf49-892ff6edc1f5",
   "metadata": {},
   "source": [
    "#### Step 2: Handle Missing Values\n",
    "Before creating new features, it's essential to handle missing values. We can fill or drop missing values as needed."
   ]
  },
  {
   "cell_type": "code",
   "execution_count": 40,
   "id": "2445dbf1-0f73-40e9-8c43-c908d7415c0f",
   "metadata": {},
   "outputs": [],
   "source": [
    "# Fill missing values with mean for numerical columns\n",
    "df['age'].fillna(df['age'].mean(), inplace=True)\n",
    "df['salary'].fillna(df['salary'].mean(), inplace=True)\n",
    "\n",
    "# Fill missing values with mode for categorical columns\n",
    "df['gender'].fillna(df['gender'].mode()[0], inplace=True)\n",
    "df['purchase_history'].fillna(df['purchase_history'].mode()[0], inplace=True)\n",
    "df['city'].fillna(df['city'].mode()[0], inplace=True)\n"
   ]
  },
  {
   "cell_type": "markdown",
   "id": "dd3a5272-0a99-4bd3-911b-61cfdd29fd57",
   "metadata": {},
   "source": [
    "#### Step 3: Create New Features\n",
    "##### 3.1 Create Interaction Features\n",
    "Interaction features are created by combining two or more features. For example, we can create a new feature by multiplying age and salary."
   ]
  },
  {
   "cell_type": "code",
   "execution_count": 41,
   "id": "7ceed1c6-f21f-4fca-a70d-b2aa1cb14164",
   "metadata": {},
   "outputs": [],
   "source": [
    "# Create interaction feature\n",
    "df['age_salary'] = df['age'] * df['salary']\n"
   ]
  },
  {
   "cell_type": "markdown",
   "id": "d6aa891b-015a-49e0-9b82-657463afdb15",
   "metadata": {},
   "source": [
    "##### 3.2 Create Polynomial Features\n",
    "Polynomial features can be useful for capturing non-linear relationships in the data."
   ]
  },
  {
   "cell_type": "code",
   "execution_count": 42,
   "id": "8cd6d418-cf69-4f11-916b-f98d9584a60c",
   "metadata": {},
   "outputs": [],
   "source": [
    "from sklearn.preprocessing import PolynomialFeatures\n",
    "\n",
    "# Create polynomial features\n",
    "poly = PolynomialFeatures(degree=2, include_bias=False)\n",
    "poly_features = poly.fit_transform(df[['age', 'salary']])\n",
    "poly_df = pd.DataFrame(poly_features, columns=poly.get_feature_names_out(['age', 'salary']))\n",
    "\n",
    "df = pd.concat([df, poly_df], axis=1)\n"
   ]
  },
  {
   "cell_type": "code",
   "execution_count": 43,
   "id": "20ee0271-dfae-4c19-b2dc-36184ef54e90",
   "metadata": {},
   "outputs": [
    {
     "data": {
      "text/html": [
       "<div>\n",
       "<style scoped>\n",
       "    .dataframe tbody tr th:only-of-type {\n",
       "        vertical-align: middle;\n",
       "    }\n",
       "\n",
       "    .dataframe tbody tr th {\n",
       "        vertical-align: top;\n",
       "    }\n",
       "\n",
       "    .dataframe thead th {\n",
       "        text-align: right;\n",
       "    }\n",
       "</style>\n",
       "<table border=\"1\" class=\"dataframe\">\n",
       "  <thead>\n",
       "    <tr style=\"text-align: right;\">\n",
       "      <th></th>\n",
       "      <th>age</th>\n",
       "      <th>salary</th>\n",
       "      <th>gender</th>\n",
       "      <th>purchase_history</th>\n",
       "      <th>city</th>\n",
       "      <th>age_salary</th>\n",
       "      <th>age</th>\n",
       "      <th>salary</th>\n",
       "      <th>age^2</th>\n",
       "      <th>age salary</th>\n",
       "      <th>salary^2</th>\n",
       "    </tr>\n",
       "  </thead>\n",
       "  <tbody>\n",
       "    <tr>\n",
       "      <th>0</th>\n",
       "      <td>25</td>\n",
       "      <td>50000</td>\n",
       "      <td>male</td>\n",
       "      <td>yes</td>\n",
       "      <td>New York</td>\n",
       "      <td>1250000</td>\n",
       "      <td>25.0</td>\n",
       "      <td>50000.0</td>\n",
       "      <td>625.0</td>\n",
       "      <td>1250000.0</td>\n",
       "      <td>2.500000e+09</td>\n",
       "    </tr>\n",
       "    <tr>\n",
       "      <th>1</th>\n",
       "      <td>32</td>\n",
       "      <td>60000</td>\n",
       "      <td>female</td>\n",
       "      <td>no</td>\n",
       "      <td>Los Angeles</td>\n",
       "      <td>1920000</td>\n",
       "      <td>32.0</td>\n",
       "      <td>60000.0</td>\n",
       "      <td>1024.0</td>\n",
       "      <td>1920000.0</td>\n",
       "      <td>3.600000e+09</td>\n",
       "    </tr>\n",
       "    <tr>\n",
       "      <th>2</th>\n",
       "      <td>47</td>\n",
       "      <td>120000</td>\n",
       "      <td>female</td>\n",
       "      <td>yes</td>\n",
       "      <td>Chicago</td>\n",
       "      <td>5640000</td>\n",
       "      <td>47.0</td>\n",
       "      <td>120000.0</td>\n",
       "      <td>2209.0</td>\n",
       "      <td>5640000.0</td>\n",
       "      <td>1.440000e+10</td>\n",
       "    </tr>\n",
       "    <tr>\n",
       "      <th>3</th>\n",
       "      <td>51</td>\n",
       "      <td>90000</td>\n",
       "      <td>male</td>\n",
       "      <td>no</td>\n",
       "      <td>Houston</td>\n",
       "      <td>4590000</td>\n",
       "      <td>51.0</td>\n",
       "      <td>90000.0</td>\n",
       "      <td>2601.0</td>\n",
       "      <td>4590000.0</td>\n",
       "      <td>8.100000e+09</td>\n",
       "    </tr>\n",
       "    <tr>\n",
       "      <th>4</th>\n",
       "      <td>62</td>\n",
       "      <td>150000</td>\n",
       "      <td>female</td>\n",
       "      <td>yes</td>\n",
       "      <td>Phoenix</td>\n",
       "      <td>9300000</td>\n",
       "      <td>62.0</td>\n",
       "      <td>150000.0</td>\n",
       "      <td>3844.0</td>\n",
       "      <td>9300000.0</td>\n",
       "      <td>2.250000e+10</td>\n",
       "    </tr>\n",
       "  </tbody>\n",
       "</table>\n",
       "</div>"
      ],
      "text/plain": [
       "   age  salary  gender purchase_history         city  age_salary   age  \\\n",
       "0   25   50000    male              yes     New York     1250000  25.0   \n",
       "1   32   60000  female               no  Los Angeles     1920000  32.0   \n",
       "2   47  120000  female              yes      Chicago     5640000  47.0   \n",
       "3   51   90000    male               no      Houston     4590000  51.0   \n",
       "4   62  150000  female              yes      Phoenix     9300000  62.0   \n",
       "\n",
       "     salary   age^2  age salary      salary^2  \n",
       "0   50000.0   625.0   1250000.0  2.500000e+09  \n",
       "1   60000.0  1024.0   1920000.0  3.600000e+09  \n",
       "2  120000.0  2209.0   5640000.0  1.440000e+10  \n",
       "3   90000.0  2601.0   4590000.0  8.100000e+09  \n",
       "4  150000.0  3844.0   9300000.0  2.250000e+10  "
      ]
     },
     "execution_count": 43,
     "metadata": {},
     "output_type": "execute_result"
    }
   ],
   "source": [
    "df"
   ]
  },
  {
   "cell_type": "markdown",
   "id": "59ff2ad6-8227-4d0e-acf8-641547a8f2ed",
   "metadata": {},
   "source": [
    "##### 3.3 Create Binned Features\n",
    "Binning can convert continuous variables into categorical variables."
   ]
  },
  {
   "cell_type": "code",
   "execution_count": 44,
   "id": "f3d6ce47-726a-4040-b67a-4e8bc45f277b",
   "metadata": {},
   "outputs": [
    {
     "data": {
      "text/plain": [
       "0    25\n",
       "1    32\n",
       "2    47\n",
       "3    51\n",
       "4    62\n",
       "Name: age, dtype: int64"
      ]
     },
     "execution_count": 44,
     "metadata": {},
     "output_type": "execute_result"
    }
   ],
   "source": [
    "df1['age']"
   ]
  },
  {
   "cell_type": "code",
   "execution_count": 46,
   "id": "628cde16-0619-4a3a-a92a-79a2c90970b4",
   "metadata": {},
   "outputs": [],
   "source": [
    "# Ensure the min and max age values fall within the bin edges\n",
    "df['age_bin'] = pd.cut(df1['age'], bins=[20, 30, 40, 50, 60, 70], labels=['20-30', '30-40', '40-50', '50-60', '60-70'], include_lowest=True)\n",
    "\n",
    "# If there are still issues, consider extending the bin edges\n",
    "# df['age_bin'] = pd.cut(df['age'], bins=[0, 30, 40, 50, 60, 100], labels=['0-30', '30-40', '40-50', '50-60', '60-100'], include_lowest=True)\n"
   ]
  },
  {
   "cell_type": "markdown",
   "id": "9852a05c-ed99-4e2f-89b2-39de98a201e3",
   "metadata": {},
   "source": [
    "##### 3.4 Encode Categorical Features\n",
    "Categorical features need to be encoded into numerical values. We can use one-hot encoding for nominal categories"
   ]
  },
  {
   "cell_type": "code",
   "execution_count": 47,
   "id": "2ea5a1bc-13b5-4363-aef1-d6ae20d217c7",
   "metadata": {},
   "outputs": [],
   "source": [
    "# One-hot encode categorical features\n",
    "df = pd.get_dummies(df, columns=['gender', 'purchase_history', 'city', 'age_bin'], drop_first=True)\n"
   ]
  },
  {
   "cell_type": "markdown",
   "id": "03bb3111-1a15-4576-9cb8-e4625a823ee5",
   "metadata": {},
   "source": [
    "#### Step 4: Scale Features\n",
    "Scaling is essential for algorithms that rely on distance metrics. We can use StandardScaler from scikit-learn."
   ]
  },
  {
   "cell_type": "code",
   "execution_count": 48,
   "id": "f777fa91-f872-46eb-8c65-147c64b63e16",
   "metadata": {},
   "outputs": [],
   "source": [
    "from sklearn.preprocessing import StandardScaler\n",
    "\n",
    "# Scale numerical features\n",
    "scaler = StandardScaler()\n",
    "df[['age', 'salary', 'age_salary']] = scaler.fit_transform(df[['age', 'salary', 'age_salary']])\n"
   ]
  },
  {
   "cell_type": "markdown",
   "id": "058e27d4-6c92-4c0a-9e26-1116874df99b",
   "metadata": {},
   "source": [
    "#### Step 5: Feature Selection\n",
    "Feature selection can be done using statistical methods or algorithms that provide feature importance scores."
   ]
  },
  {
   "cell_type": "code",
   "execution_count": 49,
   "id": "ba75027e-d39f-4a66-9bb4-fe2ed370622a",
   "metadata": {},
   "outputs": [
    {
     "name": "stdout",
     "output_type": "stream",
     "text": [
      "\n",
      "Feature Importance:\n",
      "purchase_history_yes    0.228666\n",
      "salary^2                0.094645\n",
      "salary                  0.094072\n",
      "salary                  0.086340\n",
      "age                     0.085195\n",
      "age                     0.066294\n",
      "age salary              0.064290\n",
      "age^2                   0.052835\n",
      "city_Los Angeles        0.048396\n",
      "age_bin_30-40           0.041237\n",
      "age_bin_50-60           0.039376\n",
      "city_New York           0.024485\n",
      "gender_male             0.021048\n",
      "city_Houston            0.020046\n",
      "age_bin_40-50           0.018900\n",
      "age_bin_60-70           0.008448\n",
      "city_Phoenix            0.005727\n",
      "dtype: float64\n"
     ]
    }
   ],
   "source": [
    "from sklearn.ensemble import RandomForestClassifier\n",
    "\n",
    "# Assuming 'purchase' is the target variable\n",
    "y = [1, 0, 1, 0, 1]  # Example target variable\n",
    "X = df.drop(columns=['age_salary'])  # Features\n",
    "\n",
    "# Fit RandomForest to determine feature importance\n",
    "model = RandomForestClassifier()\n",
    "model.fit(X, y)\n",
    "feature_importance = pd.Series(model.feature_importances_, index=X.columns)\n",
    "print(\"\\nFeature Importance:\")\n",
    "print(feature_importance.sort_values(ascending=False))\n"
   ]
  },
  {
   "cell_type": "markdown",
   "id": "78257d39-e7b7-4280-b9a3-6dc8da56a313",
   "metadata": {},
   "source": [
    "## Encode categorical variables (e.g., one-hot encoding, label encoding)"
   ]
  },
  {
   "cell_type": "markdown",
   "id": "f61457c8-4893-4aee-b41d-4fcfb9f8fea0",
   "metadata": {},
   "source": [
    "#### Step 1: Import Libraries and Load Data\n",
    "Let's start by importing the necessary libraries and creating a sample dataset."
   ]
  },
  {
   "cell_type": "code",
   "execution_count": 50,
   "id": "7d63351e-67c4-46ce-8f4e-cdc1cae51c9b",
   "metadata": {},
   "outputs": [
    {
     "name": "stdout",
     "output_type": "stream",
     "text": [
      "Original DataFrame:\n",
      "   gender         city    age_group\n",
      "0    male     New York        young\n",
      "1  female  Los Angeles  middle-aged\n",
      "2    male      Chicago        young\n",
      "3  female      Houston       senior\n",
      "4    male      Phoenix  middle-aged\n"
     ]
    }
   ],
   "source": [
    "import pandas as pd\n",
    "\n",
    "# Sample dataset\n",
    "data = {\n",
    "    'gender': ['male', 'female', 'male', 'female', 'male'],\n",
    "    'city': ['New York', 'Los Angeles', 'Chicago', 'Houston', 'Phoenix'],\n",
    "    'age_group': ['young', 'middle-aged', 'young', 'senior', 'middle-aged']\n",
    "}\n",
    "\n",
    "df = pd.DataFrame(data)\n",
    "print(\"Original DataFrame:\")\n",
    "print(df)\n"
   ]
  },
  {
   "cell_type": "markdown",
   "id": "dc3964b1-2d80-4d12-9960-dde18c46848b",
   "metadata": {},
   "source": [
    "#### Step 2: One-Hot Encoding with pandas\n",
    "We'll use pd.get_dummies() from pandas to perform one-hot encoding."
   ]
  },
  {
   "cell_type": "code",
   "execution_count": 51,
   "id": "a42c80cb-6564-49f8-a951-f6e3b90dcb0a",
   "metadata": {},
   "outputs": [
    {
     "name": "stdout",
     "output_type": "stream",
     "text": [
      "\n",
      "One-Hot Encoded DataFrame:\n",
      "   gender_female  gender_male  city_Chicago  city_Houston  city_Los Angeles  \\\n",
      "0              0            1             0             0                 0   \n",
      "1              1            0             0             0                 1   \n",
      "2              0            1             1             0                 0   \n",
      "3              1            0             0             1                 0   \n",
      "4              0            1             0             0                 0   \n",
      "\n",
      "   city_New York  city_Phoenix  age_group_middle-aged  age_group_senior  \\\n",
      "0              1             0                      0                 0   \n",
      "1              0             0                      1                 0   \n",
      "2              0             0                      0                 0   \n",
      "3              0             0                      0                 1   \n",
      "4              0             1                      1                 0   \n",
      "\n",
      "   age_group_young  \n",
      "0                1  \n",
      "1                0  \n",
      "2                1  \n",
      "3                0  \n",
      "4                0  \n"
     ]
    }
   ],
   "source": [
    "# Perform one-hot encoding on categorical columns\n",
    "df_encoded = pd.get_dummies(df, columns=['gender', 'city', 'age_group'])\n",
    "\n",
    "print(\"\\nOne-Hot Encoded DataFrame:\")\n",
    "print(df_encoded)\n"
   ]
  },
  {
   "cell_type": "markdown",
   "id": "a58bafe2-5295-4a22-84bc-d78bc4b46a4f",
   "metadata": {},
   "source": [
    "#### Step 3: Label Encoding with scikit-learn\n",
    "For label encoding, we use LabelEncoder from scikit-learn."
   ]
  },
  {
   "cell_type": "code",
   "execution_count": 52,
   "id": "6fc8c2cc-17e3-496d-8cde-166b27661e7b",
   "metadata": {},
   "outputs": [
    {
     "name": "stdout",
     "output_type": "stream",
     "text": [
      "\n",
      "Label Encoded DataFrame:\n",
      "   gender         city    age_group  gender_encoded  city_encoded  \\\n",
      "0    male     New York        young               1             3   \n",
      "1  female  Los Angeles  middle-aged               0             2   \n",
      "2    male      Chicago        young               1             0   \n",
      "3  female      Houston       senior               0             1   \n",
      "4    male      Phoenix  middle-aged               1             4   \n",
      "\n",
      "   age_group_encoded  \n",
      "0                  2  \n",
      "1                  0  \n",
      "2                  2  \n",
      "3                  1  \n",
      "4                  0  \n"
     ]
    }
   ],
   "source": [
    "from sklearn.preprocessing import LabelEncoder\n",
    "\n",
    "# Initialize LabelEncoder\n",
    "label_encoder = LabelEncoder()\n",
    "\n",
    "# Encode categorical columns\n",
    "df['gender_encoded'] = label_encoder.fit_transform(df['gender'])\n",
    "df['city_encoded'] = label_encoder.fit_transform(df['city'])\n",
    "df['age_group_encoded'] = label_encoder.fit_transform(df['age_group'])\n",
    "\n",
    "print(\"\\nLabel Encoded DataFrame:\")\n",
    "print(df)\n"
   ]
  },
  {
   "cell_type": "markdown",
   "id": "59f4ef88-6d67-4a0a-b75c-e0a71ab36e46",
   "metadata": {},
   "source": [
    "One-Hot Encoding: Creates binary columns for each category, suitable for nominal categorical data.\n",
    "Label Encoding: Converts categories into integers, suitable for ordinal categorical data."
   ]
  }
 ],
 "metadata": {
  "kernelspec": {
   "display_name": "Python 3 (ipykernel)",
   "language": "python",
   "name": "python3"
  },
  "language_info": {
   "codemirror_mode": {
    "name": "ipython",
    "version": 3
   },
   "file_extension": ".py",
   "mimetype": "text/x-python",
   "name": "python",
   "nbconvert_exporter": "python",
   "pygments_lexer": "ipython3",
   "version": "3.11.7"
  }
 },
 "nbformat": 4,
 "nbformat_minor": 5
}
